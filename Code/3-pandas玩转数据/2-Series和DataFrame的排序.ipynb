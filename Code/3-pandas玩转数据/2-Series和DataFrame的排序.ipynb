{
 "cells": [
  {
   "cell_type": "markdown",
   "metadata": {},
   "source": [
    "# Series和DataFrame的排序"
   ]
  },
  {
   "cell_type": "code",
   "execution_count": 4,
   "metadata": {},
   "outputs": [],
   "source": [
    "import numpy as np\n",
    "import pandas as pd"
   ]
  },
  {
   "cell_type": "markdown",
   "metadata": {},
   "source": [
    "## Series 的排序"
   ]
  },
  {
   "cell_type": "code",
   "execution_count": 6,
   "metadata": {},
   "outputs": [
    {
     "data": {
      "text/plain": [
       "0   -1.366235\n",
       "1    0.356865\n",
       "2    0.838722\n",
       "3    0.958230\n",
       "4   -0.835506\n",
       "5   -1.211623\n",
       "6   -0.733356\n",
       "7    0.498928\n",
       "8    0.636980\n",
       "9    0.806554\n",
       "dtype: float64"
      ]
     },
     "execution_count": 6,
     "metadata": {},
     "output_type": "execute_result"
    }
   ],
   "source": [
    "s1 = pd.Series(np.random.randn(10))"
   ]
  },
  {
   "cell_type": "code",
   "execution_count": 13,
   "metadata": {},
   "outputs": [
    {
     "data": {
      "text/plain": [
       "3    0.958230\n",
       "2    0.838722\n",
       "9    0.806554\n",
       "8    0.636980\n",
       "7    0.498928\n",
       "1    0.356865\n",
       "6   -0.733356\n",
       "4   -0.835506\n",
       "5   -1.211623\n",
       "0   -1.366235\n",
       "dtype: float64"
      ]
     },
     "execution_count": 13,
     "metadata": {},
     "output_type": "execute_result"
    }
   ],
   "source": [
    "# Series 按 value 升序排序（默认 ascending=True，ascending=False 表示降序排序）\n",
    "s1.sort_values(ascending=False)"
   ]
  },
  {
   "cell_type": "code",
   "execution_count": 14,
   "metadata": {},
   "outputs": [
    {
     "data": {
      "text/plain": [
       "9    0.806554\n",
       "8    0.636980\n",
       "7    0.498928\n",
       "6   -0.733356\n",
       "5   -1.211623\n",
       "4   -0.835506\n",
       "3    0.958230\n",
       "2    0.838722\n",
       "1    0.356865\n",
       "0   -1.366235\n",
       "dtype: float64"
      ]
     },
     "execution_count": 14,
     "metadata": {},
     "output_type": "execute_result"
    }
   ],
   "source": [
    "# Series 按 index 升序排序（默认 ascending=True，ascending=False 表示降序排序）\n",
    "s1.sort_index(ascending=False)"
   ]
  },
  {
   "cell_type": "markdown",
   "metadata": {},
   "source": [
    "## DataFrame 的排序"
   ]
  },
  {
   "cell_type": "code",
   "execution_count": 16,
   "metadata": {},
   "outputs": [
    {
     "data": {
      "text/html": [
       "<div>\n",
       "<style scoped>\n",
       "    .dataframe tbody tr th:only-of-type {\n",
       "        vertical-align: middle;\n",
       "    }\n",
       "\n",
       "    .dataframe tbody tr th {\n",
       "        vertical-align: top;\n",
       "    }\n",
       "\n",
       "    .dataframe thead th {\n",
       "        text-align: right;\n",
       "    }\n",
       "</style>\n",
       "<table border=\"1\" class=\"dataframe\">\n",
       "  <thead>\n",
       "    <tr style=\"text-align: right;\">\n",
       "      <th></th>\n",
       "      <th>A</th>\n",
       "      <th>B</th>\n",
       "      <th>C</th>\n",
       "      <th>D</th>\n",
       "      <th>E</th>\n",
       "    </tr>\n",
       "  </thead>\n",
       "  <tbody>\n",
       "    <tr>\n",
       "      <th>0</th>\n",
       "      <td>-0.241993</td>\n",
       "      <td>1.458471</td>\n",
       "      <td>-0.380640</td>\n",
       "      <td>0.311812</td>\n",
       "      <td>-0.623996</td>\n",
       "    </tr>\n",
       "    <tr>\n",
       "      <th>1</th>\n",
       "      <td>-0.733092</td>\n",
       "      <td>0.110076</td>\n",
       "      <td>0.390262</td>\n",
       "      <td>0.464092</td>\n",
       "      <td>0.784914</td>\n",
       "    </tr>\n",
       "    <tr>\n",
       "      <th>2</th>\n",
       "      <td>0.352104</td>\n",
       "      <td>0.463340</td>\n",
       "      <td>0.754040</td>\n",
       "      <td>0.176167</td>\n",
       "      <td>0.180370</td>\n",
       "    </tr>\n",
       "  </tbody>\n",
       "</table>\n",
       "</div>"
      ],
      "text/plain": [
       "          A         B         C         D         E\n",
       "0 -0.241993  1.458471 -0.380640  0.311812 -0.623996\n",
       "1 -0.733092  0.110076  0.390262  0.464092  0.784914\n",
       "2  0.352104  0.463340  0.754040  0.176167  0.180370"
      ]
     },
     "execution_count": 16,
     "metadata": {},
     "output_type": "execute_result"
    }
   ],
   "source": [
    "df = pd.DataFrame(np.random.randn(15).reshape(3, 5), columns=['A', 'B', 'C', 'D', 'E'])"
   ]
  },
  {
   "cell_type": "code",
   "execution_count": 20,
   "metadata": {},
   "outputs": [
    {
     "data": {
      "text/html": [
       "<div>\n",
       "<style scoped>\n",
       "    .dataframe tbody tr th:only-of-type {\n",
       "        vertical-align: middle;\n",
       "    }\n",
       "\n",
       "    .dataframe tbody tr th {\n",
       "        vertical-align: top;\n",
       "    }\n",
       "\n",
       "    .dataframe thead th {\n",
       "        text-align: right;\n",
       "    }\n",
       "</style>\n",
       "<table border=\"1\" class=\"dataframe\">\n",
       "  <thead>\n",
       "    <tr style=\"text-align: right;\">\n",
       "      <th></th>\n",
       "      <th>A</th>\n",
       "      <th>B</th>\n",
       "      <th>C</th>\n",
       "      <th>D</th>\n",
       "      <th>E</th>\n",
       "    </tr>\n",
       "  </thead>\n",
       "  <tbody>\n",
       "    <tr>\n",
       "      <th>1</th>\n",
       "      <td>-0.733092</td>\n",
       "      <td>0.110076</td>\n",
       "      <td>0.390262</td>\n",
       "      <td>0.464092</td>\n",
       "      <td>0.784914</td>\n",
       "    </tr>\n",
       "    <tr>\n",
       "      <th>0</th>\n",
       "      <td>-0.241993</td>\n",
       "      <td>1.458471</td>\n",
       "      <td>-0.380640</td>\n",
       "      <td>0.311812</td>\n",
       "      <td>-0.623996</td>\n",
       "    </tr>\n",
       "    <tr>\n",
       "      <th>2</th>\n",
       "      <td>0.352104</td>\n",
       "      <td>0.463340</td>\n",
       "      <td>0.754040</td>\n",
       "      <td>0.176167</td>\n",
       "      <td>0.180370</td>\n",
       "    </tr>\n",
       "  </tbody>\n",
       "</table>\n",
       "</div>"
      ],
      "text/plain": [
       "          A         B         C         D         E\n",
       "1 -0.733092  0.110076  0.390262  0.464092  0.784914\n",
       "0 -0.241993  1.458471 -0.380640  0.311812 -0.623996\n",
       "2  0.352104  0.463340  0.754040  0.176167  0.180370"
      ]
     },
     "execution_count": 20,
     "metadata": {},
     "output_type": "execute_result"
    }
   ],
   "source": [
    "# DataFrame 以列 'A' 按 value 升序排序（默认 ascending=True，ascending=False 表示降序排序）\n",
    "df.sort_values('A')"
   ]
  },
  {
   "cell_type": "code",
   "execution_count": null,
   "metadata": {},
   "outputs": [],
   "source": [
    "# DataFrame 按 index 升序排序（默认 ascending=True，ascending=False 表示降序排序）\n",
    "df.sort_index()"
   ]
  }
 ],
 "metadata": {
  "kernelspec": {
   "display_name": "Python 3",
   "language": "python",
   "name": "python3"
  },
  "language_info": {
   "codemirror_mode": {
    "name": "ipython",
    "version": 3
   },
   "file_extension": ".py",
   "mimetype": "text/x-python",
   "name": "python",
   "nbconvert_exporter": "python",
   "pygments_lexer": "ipython3",
   "version": "3.6.6"
  }
 },
 "nbformat": 4,
 "nbformat_minor": 2
}
