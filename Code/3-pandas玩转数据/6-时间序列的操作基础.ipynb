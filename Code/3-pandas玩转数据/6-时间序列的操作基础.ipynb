{
 "cells": [
  {
   "cell_type": "markdown",
   "metadata": {},
   "source": [
    "# 时间序列的操作基础"
   ]
  },
  {
   "cell_type": "code",
   "execution_count": 19,
   "metadata": {},
   "outputs": [],
   "source": [
    "import numpy as np\n",
    "import pandas as pd\n",
    "import datetime as dt"
   ]
  },
  {
   "cell_type": "code",
   "execution_count": 12,
   "metadata": {},
   "outputs": [
    {
     "data": {
      "text/plain": [
       "datetime.datetime(2018, 10, 20, 0, 0)"
      ]
     },
     "execution_count": 12,
     "metadata": {},
     "output_type": "execute_result"
    }
   ],
   "source": [
    "# 创建一个 DateTime 的对象\n",
    "t1 = dt.datetime(2018, 10, 20)\n",
    "t1"
   ]
  },
  {
   "cell_type": "code",
   "execution_count": 24,
   "metadata": {},
   "outputs": [],
   "source": [
    "date_list = [\n",
    "    dt.datetime(2017, 10, 20), \n",
    "    dt.datetime(2018, 10, 21), \n",
    "    dt.datetime(2018, 11, 22), \n",
    "    dt.datetime(2018, 12, 23), \n",
    "    dt.datetime(2019, 1, 24), \n",
    "]"
   ]
  },
  {
   "cell_type": "code",
   "execution_count": 25,
   "metadata": {},
   "outputs": [
    {
     "data": {
      "text/plain": [
       "[datetime.datetime(2017, 10, 20, 0, 0),\n",
       " datetime.datetime(2018, 10, 21, 0, 0),\n",
       " datetime.datetime(2018, 11, 22, 0, 0),\n",
       " datetime.datetime(2018, 12, 23, 0, 0),\n",
       " datetime.datetime(2019, 1, 24, 0, 0)]"
      ]
     },
     "execution_count": 25,
     "metadata": {},
     "output_type": "execute_result"
    }
   ],
   "source": [
    "date_list"
   ]
  },
  {
   "cell_type": "code",
   "execution_count": 26,
   "metadata": {},
   "outputs": [
    {
     "data": {
      "text/plain": [
       "2017-10-20    0.467958\n",
       "2018-10-21    0.170206\n",
       "2018-11-22    0.349676\n",
       "2018-12-23    0.609425\n",
       "2019-01-24    0.543507\n",
       "dtype: float64"
      ]
     },
     "execution_count": 26,
     "metadata": {},
     "output_type": "execute_result"
    }
   ],
   "source": [
    "s1 = pd.Series(np.random.rand(5), index=date_list)\n",
    "s1"
   ]
  },
  {
   "cell_type": "code",
   "execution_count": 30,
   "metadata": {},
   "outputs": [
    {
     "data": {
      "text/plain": [
       "2018-10-21    0.170206\n",
       "dtype: float64"
      ]
     },
     "execution_count": 30,
     "metadata": {},
     "output_type": "execute_result"
    }
   ],
   "source": [
    "s1['2018-10']"
   ]
  },
  {
   "cell_type": "code",
   "execution_count": 36,
   "metadata": {},
   "outputs": [
    {
     "data": {
      "text/plain": [
       "DatetimeIndex(['2018-01-01', '2018-01-02', '2018-01-03', '2018-01-04',\n",
       "               '2018-01-05', '2018-01-06', '2018-01-07', '2018-01-08',\n",
       "               '2018-01-09', '2018-01-10',\n",
       "               ...\n",
       "               '2018-12-21', '2018-12-22', '2018-12-23', '2018-12-24',\n",
       "               '2018-12-25', '2018-12-26', '2018-12-27', '2018-12-28',\n",
       "               '2018-12-29', '2018-12-30'],\n",
       "              dtype='datetime64[ns]', length=364, freq='D')"
      ]
     },
     "execution_count": 36,
     "metadata": {},
     "output_type": "execute_result"
    }
   ],
   "source": [
    "d2 = pd.date_range('2018-1-1', '2018-12-30')\n",
    "d2"
   ]
  },
  {
   "cell_type": "code",
   "execution_count": 38,
   "metadata": {},
   "outputs": [
    {
     "data": {
      "text/plain": [
       "2018-01-01    0.954893\n",
       "2018-01-02    0.283446\n",
       "2018-01-03    0.968870\n",
       "2018-01-04    0.845557\n",
       "2018-01-05    0.706174\n",
       "2018-01-06    0.289953\n",
       "2018-01-07    0.415019\n",
       "2018-01-08    0.360552\n",
       "2018-01-09    0.069034\n",
       "2018-01-10    0.256762\n",
       "2018-01-11    0.642740\n",
       "2018-01-12    0.768165\n",
       "2018-01-13    0.811710\n",
       "2018-01-14    0.797758\n",
       "2018-01-15    0.002796\n",
       "2018-01-16    0.051038\n",
       "2018-01-17    0.986618\n",
       "2018-01-18    0.781404\n",
       "2018-01-19    0.332174\n",
       "2018-01-20    0.384029\n",
       "2018-01-21    0.394859\n",
       "2018-01-22    0.873590\n",
       "2018-01-23    0.435236\n",
       "2018-01-24    0.332577\n",
       "2018-01-25    0.504730\n",
       "2018-01-26    0.182687\n",
       "2018-01-27    0.016775\n",
       "2018-01-28    0.369654\n",
       "2018-01-29    0.683234\n",
       "2018-01-30    0.972233\n",
       "                ...   \n",
       "2018-12-01    0.775541\n",
       "2018-12-02    0.207002\n",
       "2018-12-03    0.494891\n",
       "2018-12-04    0.580560\n",
       "2018-12-05    0.259950\n",
       "2018-12-06    0.801460\n",
       "2018-12-07    0.851782\n",
       "2018-12-08    0.685762\n",
       "2018-12-09    0.986937\n",
       "2018-12-10    0.298383\n",
       "2018-12-11    0.710846\n",
       "2018-12-12    0.830240\n",
       "2018-12-13    0.705396\n",
       "2018-12-14    0.922458\n",
       "2018-12-15    0.082839\n",
       "2018-12-16    0.357206\n",
       "2018-12-17    0.390197\n",
       "2018-12-18    0.293194\n",
       "2018-12-19    0.898082\n",
       "2018-12-20    0.629571\n",
       "2018-12-21    0.801016\n",
       "2018-12-22    0.765709\n",
       "2018-12-23    0.771403\n",
       "2018-12-24    0.371260\n",
       "2018-12-25    0.517728\n",
       "2018-12-26    0.483973\n",
       "2018-12-27    0.113646\n",
       "2018-12-28    0.561520\n",
       "2018-12-29    0.975915\n",
       "2018-12-30    0.470379\n",
       "Freq: D, Length: 364, dtype: float64"
      ]
     },
     "execution_count": 38,
     "metadata": {},
     "output_type": "execute_result"
    }
   ],
   "source": [
    "s2 = pd.Series(np.random.rand(len(d2)), index=d2)\n",
    "s2"
   ]
  },
  {
   "cell_type": "markdown",
   "metadata": {},
   "source": [
    "## 时间序列数据的采样和画图"
   ]
  },
  {
   "cell_type": "code",
   "execution_count": null,
   "metadata": {},
   "outputs": [],
   "source": [
    "s2.resample('M').mean() # https://pandas.pydata.org/pandas-docs/stable/generated/pandas.DataFrame.resample.html"
   ]
  }
 ],
 "metadata": {
  "kernelspec": {
   "display_name": "Python 3",
   "language": "python",
   "name": "python3"
  },
  "language_info": {
   "codemirror_mode": {
    "name": "ipython",
    "version": 3
   },
   "file_extension": ".py",
   "mimetype": "text/x-python",
   "name": "python",
   "nbconvert_exporter": "python",
   "pygments_lexer": "ipython3",
   "version": "3.6.6"
  }
 },
 "nbformat": 4,
 "nbformat_minor": 2
}
