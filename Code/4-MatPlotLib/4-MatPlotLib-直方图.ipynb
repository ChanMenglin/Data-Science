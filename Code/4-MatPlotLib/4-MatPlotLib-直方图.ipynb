{
 "cells": [
  {
   "cell_type": "markdown",
   "metadata": {},
   "source": [
    "# MatPlotLib-直方图"
   ]
  },
  {
   "cell_type": "code",
   "execution_count": 1,
   "metadata": {},
   "outputs": [],
   "source": [
    "import numpy as np\n",
    "import pandas as pd\n",
    "import matplotlib.pyplot as plt"
   ]
  },
  {
   "cell_type": "code",
   "execution_count": 3,
   "metadata": {},
   "outputs": [],
   "source": [
    "s = pd.Series(np.random.randn(1000))"
   ]
  },
  {
   "cell_type": "code",
   "execution_count": 10,
   "metadata": {},
   "outputs": [
    {
     "data": {
      "text/plain": [
       "(array([ 2.,  0.,  1.,  2.,  7.,  9., 14., 11., 24., 25., 49., 48., 57.,\n",
       "        68., 71., 96., 87., 74., 67., 64., 51., 47., 37., 35., 18., 12.,\n",
       "        14.,  4.,  2.,  4.]),\n",
       " array([-3.24055314, -3.03729688, -2.83404062, -2.63078436, -2.4275281 ,\n",
       "        -2.22427184, -2.02101558, -1.81775932, -1.61450306, -1.4112468 ,\n",
       "        -1.20799054, -1.00473428, -0.80147802, -0.59822176, -0.3949655 ,\n",
       "        -0.19170924,  0.01154702,  0.21480328,  0.41805954,  0.6213158 ,\n",
       "         0.82457206,  1.02782832,  1.23108458,  1.43434084,  1.6375971 ,\n",
       "         1.84085336,  2.04410962,  2.24736588,  2.45062214,  2.6538784 ,\n",
       "         2.85713466]),\n",
       " <a list of 30 Patch objects>)"
      ]
     },
     "execution_count": 10,
     "metadata": {},
     "output_type": "execute_result"
    },
    {
     "data": {
      "image/png": "[encoded data removed]",
      "text/plain": [
       "<Figure size 432x288 with 1 Axes>"
      ]
     },
     "metadata": {
      "needs_background": "light"
     },
     "output_type": "display_data"
    }
   ],
   "source": [
    "# 直方图（rwidth 为宽度，bins 为分割区间，默认10） \n",
    "plt.hist(s, rwidth=0.9, bins=30)"
   ]
  },
  {
   "cell_type": "code",
   "execution_count": null,
   "metadata": {},
   "outputs": [],
   "source": []
  }
 ],
 "metadata": {
  "kernelspec": {
   "display_name": "Python 3",
   "language": "python",
   "name": "python3"
  },
  "language_info": {
   "codemirror_mode": {
    "name": "ipython",
    "version": 3
   },
   "file_extension": ".py",
   "mimetype": "text/x-python",
   "name": "python",
   "nbconvert_exporter": "python",
   "pygments_lexer": "ipython3",
   "version": "3.6.6"
  }
 },
 "nbformat": 4,
 "nbformat_minor": 2
}
