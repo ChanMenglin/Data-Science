{
 "cells": [
  {
   "cell_type": "code",
   "execution_count": 11,
   "metadata": {},
   "outputs": [],
   "source": [
    "import pandas_datareader as pdr\n",
    "import matplotlib.pyplot as plt"
   ]
  },
  {
   "cell_type": "code",
   "execution_count": 3,
   "metadata": {},
   "outputs": [],
   "source": [
    "# 获取 alibaba 股票信息\n",
    "alibaba = pdr.get_data_yahoo('BABA')"
   ]
  },
  {
   "cell_type": "code",
   "execution_count": 8,
   "metadata": {},
   "outputs": [
    {
     "data": {
      "text/plain": [
       "(1066, 6)"
      ]
     },
     "execution_count": 8,
     "metadata": {},
     "output_type": "execute_result"
    }
   ],
   "source": [
    "alibaba.shape"
   ]
  },
  {
   "cell_type": "code",
   "execution_count": 14,
   "metadata": {},
   "outputs": [
    {
     "data": {
      "text/html": [
       "<div>\n",
       "<style scoped>\n",
       "    .dataframe tbody tr th:only-of-type {\n",
       "        vertical-align: middle;\n",
       "    }\n",
       "\n",
       "    .dataframe tbody tr th {\n",
       "        vertical-align: top;\n",
       "    }\n",
       "\n",
       "    .dataframe thead th {\n",
       "        text-align: right;\n",
       "    }\n",
       "</style>\n",
       "<table border=\"1\" class=\"dataframe\">\n",
       "  <thead>\n",
       "    <tr style=\"text-align: right;\">\n",
       "      <th></th>\n",
       "      <th>High</th>\n",
       "      <th>Low</th>\n",
       "      <th>Open</th>\n",
       "      <th>Close</th>\n",
       "      <th>Volume</th>\n",
       "      <th>Adj Close</th>\n",
       "    </tr>\n",
       "  </thead>\n",
       "  <tbody>\n",
       "    <tr>\n",
       "      <th>count</th>\n",
       "      <td>1066.000000</td>\n",
       "      <td>1066.000000</td>\n",
       "      <td>1066.000000</td>\n",
       "      <td>1066.000000</td>\n",
       "      <td>1.066000e+03</td>\n",
       "      <td>1066.000000</td>\n",
       "    </tr>\n",
       "    <tr>\n",
       "      <th>mean</th>\n",
       "      <td>120.870860</td>\n",
       "      <td>117.875836</td>\n",
       "      <td>119.501537</td>\n",
       "      <td>119.364718</td>\n",
       "      <td>1.776522e+07</td>\n",
       "      <td>119.364718</td>\n",
       "    </tr>\n",
       "    <tr>\n",
       "      <th>std</th>\n",
       "      <td>44.196441</td>\n",
       "      <td>43.120785</td>\n",
       "      <td>43.760117</td>\n",
       "      <td>43.656629</td>\n",
       "      <td>1.318460e+07</td>\n",
       "      <td>43.656629</td>\n",
       "    </tr>\n",
       "    <tr>\n",
       "      <th>min</th>\n",
       "      <td>58.650002</td>\n",
       "      <td>57.200001</td>\n",
       "      <td>57.299999</td>\n",
       "      <td>57.389999</td>\n",
       "      <td>3.775300e+06</td>\n",
       "      <td>57.389999</td>\n",
       "    </tr>\n",
       "    <tr>\n",
       "      <th>25%</th>\n",
       "      <td>83.772499</td>\n",
       "      <td>82.105000</td>\n",
       "      <td>83.087502</td>\n",
       "      <td>83.105000</td>\n",
       "      <td>1.101285e+07</td>\n",
       "      <td>83.105000</td>\n",
       "    </tr>\n",
       "    <tr>\n",
       "      <th>50%</th>\n",
       "      <td>103.900002</td>\n",
       "      <td>101.724998</td>\n",
       "      <td>102.760002</td>\n",
       "      <td>102.809998</td>\n",
       "      <td>1.485695e+07</td>\n",
       "      <td>102.809998</td>\n",
       "    </tr>\n",
       "    <tr>\n",
       "      <th>75%</th>\n",
       "      <td>168.000000</td>\n",
       "      <td>164.077503</td>\n",
       "      <td>166.069996</td>\n",
       "      <td>165.239994</td>\n",
       "      <td>2.065440e+07</td>\n",
       "      <td>165.239994</td>\n",
       "    </tr>\n",
       "    <tr>\n",
       "      <th>max</th>\n",
       "      <td>211.699997</td>\n",
       "      <td>207.509995</td>\n",
       "      <td>209.949997</td>\n",
       "      <td>210.860001</td>\n",
       "      <td>2.718794e+08</td>\n",
       "      <td>210.860001</td>\n",
       "    </tr>\n",
       "  </tbody>\n",
       "</table>\n",
       "</div>"
      ],
      "text/plain": [
       "              High          Low         Open        Close        Volume  \\\n",
       "count  1066.000000  1066.000000  1066.000000  1066.000000  1.066000e+03   \n",
       "mean    120.870860   117.875836   119.501537   119.364718  1.776522e+07   \n",
       "std      44.196441    43.120785    43.760117    43.656629  1.318460e+07   \n",
       "min      58.650002    57.200001    57.299999    57.389999  3.775300e+06   \n",
       "25%      83.772499    82.105000    83.087502    83.105000  1.101285e+07   \n",
       "50%     103.900002   101.724998   102.760002   102.809998  1.485695e+07   \n",
       "75%     168.000000   164.077503   166.069996   165.239994  2.065440e+07   \n",
       "max     211.699997   207.509995   209.949997   210.860001  2.718794e+08   \n",
       "\n",
       "         Adj Close  \n",
       "count  1066.000000  \n",
       "mean    119.364718  \n",
       "std      43.656629  \n",
       "min      57.389999  \n",
       "25%      83.105000  \n",
       "50%     102.809998  \n",
       "75%     165.239994  \n",
       "max     210.860001  "
      ]
     },
     "execution_count": 14,
     "metadata": {},
     "output_type": "execute_result"
    }
   ],
   "source": [
    "alibaba.describe() # 基本统计信息"
   ]
  },
  {
   "cell_type": "code",
   "execution_count": 15,
   "metadata": {},
   "outputs": [
    {
     "name": "stdout",
     "output_type": "stream",
     "text": [
      "<class 'pandas.core.frame.DataFrame'>\n",
      "DatetimeIndex: 1066 entries, 2014-09-19 to 2018-12-12\n",
      "Data columns (total 6 columns):\n",
      "High         1066 non-null float64\n",
      "Low          1066 non-null float64\n",
      "Open         1066 non-null float64\n",
      "Close        1066 non-null float64\n",
      "Volume       1066 non-null int64\n",
      "Adj Close    1066 non-null float64\n",
      "dtypes: float64(5), int64(1)\n",
      "memory usage: 58.3 KB\n"
     ]
    }
   ],
   "source": [
    "alibaba.info() # 基本统计信息"
   ]
  },
  {
   "cell_type": "code",
   "execution_count": null,
   "metadata": {},
   "outputs": [],
   "source": []
  }
 ],
 "metadata": {
  "kernelspec": {
   "display_name": "Python 3",
   "language": "python",
   "name": "python3"
  },
  "language_info": {
   "codemirror_mode": {
    "name": "ipython",
    "version": 3
   },
   "file_extension": ".py",
   "mimetype": "text/x-python",
   "name": "python",
   "nbconvert_exporter": "python",
   "pygments_lexer": "ipython3",
   "version": "3.6.6"
  }
 },
 "nbformat": 4,
 "nbformat_minor": 2
}
